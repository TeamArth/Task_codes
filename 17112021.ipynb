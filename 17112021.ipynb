{
  "nbformat": 4,
  "nbformat_minor": 0,
  "metadata": {
    "colab": {
      "name": "17112021.ipynb",
      "provenance": [],
      "include_colab_link": true
    },
    "kernelspec": {
      "name": "python3",
      "display_name": "Python 3"
    },
    "language_info": {
      "name": "python"
    }
  },
  "cells": [
    {
      "cell_type": "markdown",
      "metadata": {
        "id": "view-in-github",
        "colab_type": "text"
      },
      "source": [
        "<a href=\"https://colab.research.google.com/github/TeamArth/Task_codes/blob/main/17112021.ipynb\" target=\"_parent\"><img src=\"https://colab.research.google.com/assets/colab-badge.svg\" alt=\"Open In Colab\"/></a>"
      ]
    },
    {
      "cell_type": "markdown",
      "metadata": {
        "id": "LrPIZqjLLXnN"
      },
      "source": [
        "**Python program to convert a list of items into a string**"
      ]
    },
    {
      "cell_type": "code",
      "metadata": {
        "id": "40YNFMWDLV8A"
      },
      "source": [
        "#your code goes here\n",
        "def listtostring(l1):\n",
        "  str = ''\n",
        "  return(str.join(l1))\n",
        "  l1= [\"Hello\",\"varun\",\"here\"]\n",
        "  printf(listtostring(list1))"
      ],
      "execution_count": 6,
      "outputs": []
    },
    {
      "cell_type": "code",
      "metadata": {
        "id": "PESoAD5xSL9a",
        "colab": {
          "base_uri": "https://localhost:8080/"
        },
        "outputId": "6f36fe5f-1ac3-4df9-a740-509b214b6511"
      },
      "source": [
        "#@title\n",
        "def convertList(list1):  \n",
        "    str = ''  # initializing the empty string  \n",
        "  \n",
        "    return (str.join(list1)) # return string  \n",
        "  \n",
        "list1 = [\"Hello\",\" My\", \" Name is \",\"Devansh\"] #passing string  \n",
        "print(convertList(list1))"
      ],
      "execution_count": 1,
      "outputs": [
        {
          "output_type": "stream",
          "name": "stdout",
          "text": [
            "Hello My Name is Devansh\n"
          ]
        }
      ]
    }
  ]
}